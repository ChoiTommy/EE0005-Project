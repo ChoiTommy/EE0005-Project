{
 "cells": [
  {
   "cell_type": "code",
   "execution_count": 1,
   "metadata": {},
   "outputs": [],
   "source": [
    "# Basic Libraries\n",
    "import numpy as np\n",
    "import pandas as pd\n",
    "import seaborn as sb\n",
    "import matplotlib.pyplot as plt # we only need pyplot\n",
    "sb.set() # set the default Seaborn style for graphics"
   ]
  },
  {
   "cell_type": "code",
   "execution_count": 2,
   "metadata": {},
   "outputs": [],
   "source": [
    "jobData = pd.read_csv('fake_job_postings.csv')"
   ]
  },
  {
   "cell_type": "markdown",
   "metadata": {},
   "source": [
    "---\n",
    "# Extracting `salary_range`\n",
    "\n",
    "The cleaned salary range are stored in column `salary_lower_limit` and `salary_upper_limit`\n",
    "\n",
    "for data like \"40000-59000\", the corresponding lower and upper limits are 40000 and 59000\n",
    "\n",
    "for data with NaN, they are all stored as (0, 0)\n",
    "\n",
    "for data with just one value like \"40000\", lower limit is stored as 0 and upper as 40000"
   ]
  },
  {
   "cell_type": "code",
   "execution_count": 3,
   "metadata": {},
   "outputs": [],
   "source": [
    "def extract_salary_range(t):\n",
    "    a_string_lowercase = t.lower()\n",
    "    if a_string_lowercase.islower():\n",
    "        return (0, 0)\n",
    "    return (0, int(t)) if '-' not in t else (int(t.split('-')[0]), int(t.split('-')[1]))"
   ]
  },
  {
   "cell_type": "code",
   "execution_count": 4,
   "metadata": {},
   "outputs": [],
   "source": [
    "jobData['salary_range'] = jobData['salary_range'].fillna('0')"
   ]
  },
  {
   "cell_type": "code",
   "execution_count": 5,
   "metadata": {},
   "outputs": [],
   "source": [
    "lower = []\n",
    "upper = []\n",
    "for i in range(len(jobData)):\n",
    "    l, u = extract_salary_range(jobData['salary_range'][i])\n",
    "    lower.append(l)\n",
    "    upper.append(u)\n",
    "\n",
    "jobData[\"salary_lower_limit\"] = lower\n",
    "jobData[\"salary_upper_limit\"] = upper"
   ]
  },
  {
   "cell_type": "code",
   "execution_count": null,
   "metadata": {},
   "outputs": [],
   "source": [
    "#jobData[[\"salary_range\", \"salary_lower_limit\", \"salary_upper_limit\"]].head(50)"
   ]
  },
  {
   "cell_type": "markdown",
   "metadata": {},
   "source": [
    "---\n",
    "\n",
    "# Cleaning `function` using one-hot encoding\n",
    "\n",
    "Columns can be accessed by using `function_type_is_<function name>`.\n",
    "\n",
    "For example, if you want to know whether the job has the function of 'Marketing', simply use `jobPostings[\"function_type_is_Marketing\"]` to generate a column of bool."
   ]
  },
  {
   "cell_type": "code",
   "execution_count": 6,
   "metadata": {},
   "outputs": [],
   "source": [
    "jobData[\"function\"] = jobData[\"function\"].fillna('Not specified')\n",
    "jobData[\"function\"] = jobData[\"function\"].astype(\"category\")"
   ]
  },
  {
   "cell_type": "code",
   "execution_count": 7,
   "metadata": {},
   "outputs": [],
   "source": [
    "temp = jobData[\"function\"]\n",
    "\n",
    "# generate binary values using get_dummies\n",
    "jobData = pd.get_dummies(jobData, columns=[\"function\"], prefix=[\"function_type_is\"], dtype=\"bool\")\n",
    "jobData = jobData.join(temp)"
   ]
  },
  {
   "cell_type": "code",
   "execution_count": null,
   "metadata": {},
   "outputs": [],
   "source": [
    "#jobData.dtypes"
   ]
  },
  {
   "cell_type": "markdown",
   "metadata": {},
   "source": [
    "---\n",
    "\n",
    "# Extract country codes from `location` to column `country_code`\n",
    "\n",
    "'NS' refers to not being specified, rather than a actual country code."
   ]
  },
  {
   "cell_type": "code",
   "execution_count": 8,
   "metadata": {},
   "outputs": [],
   "source": [
    "jobData[\"location\"] = jobData[\"location\"].fillna(\"NS\") # Not specified"
   ]
  },
  {
   "cell_type": "code",
   "execution_count": 9,
   "metadata": {},
   "outputs": [],
   "source": [
    "def extract_country_code(t):\n",
    "    return t[:2]"
   ]
  },
  {
   "cell_type": "code",
   "execution_count": 10,
   "metadata": {},
   "outputs": [],
   "source": [
    "code = []\n",
    "for i in range(len(jobData)):\n",
    "    code.append(extract_country_code(jobData[\"location\"][i]))\n",
    "\n",
    "jobData[\"country_code\"] = code\n",
    "jobData[\"country_code\"] = jobData[\"country_code\"].astype(\"category\")"
   ]
  },
  {
   "cell_type": "code",
   "execution_count": 11,
   "metadata": {},
   "outputs": [],
   "source": [
    "temp = jobData[\"country_code\"]\n",
    "\n",
    "# generate binary values using get_dummies\n",
    "jobData = pd.get_dummies(jobData, columns=[\"country_code\"], prefix=[\"country_code_is\"], dtype=\"bool\")\n",
    "jobData = jobData.join(temp)"
   ]
  },
  {
   "cell_type": "code",
   "execution_count": null,
   "metadata": {},
   "outputs": [],
   "source": [
    "jobData.dtypes"
   ]
  },
  {
   "cell_type": "markdown",
   "metadata": {},
   "source": [
    "--- \n",
    "\n",
    "# Cleaning `required_experience`, `employment_type`, `required_education` and `industry`"
   ]
  },
  {
   "cell_type": "code",
   "execution_count": 12,
   "metadata": {},
   "outputs": [],
   "source": [
    "jobData['employment_type'].fillna(value='Not specified', inplace=True)\n",
    "jobData['required_experience'].fillna(value='Not specified', inplace=True)\n",
    "jobData['required_education'].fillna(value='Not specified', inplace=True)\n",
    "jobData['industry'].fillna(value='Not specified', inplace=True)"
   ]
  },
  {
   "cell_type": "code",
   "execution_count": 13,
   "metadata": {},
   "outputs": [],
   "source": [
    "temp = jobData[\"required_experience\"]\n",
    "\n",
    "jobData = pd.get_dummies(jobData, columns=[\"required_experience\"], prefix=[\"required_experience_is\"], dtype=\"bool\")\n",
    "jobData = jobData.join(temp)"
   ]
  },
  {
   "cell_type": "code",
   "execution_count": 14,
   "metadata": {},
   "outputs": [],
   "source": [
    "temp = jobData[\"employment_type\"]\n",
    "\n",
    "jobData = pd.get_dummies(jobData, columns=[\"employment_type\"], prefix=[\"employment_type_is\"], dtype=\"bool\")\n",
    "jobData = jobData.join(temp)"
   ]
  },
  {
   "cell_type": "code",
   "execution_count": 15,
   "metadata": {},
   "outputs": [],
   "source": [
    "temp = jobData[\"required_education\"]\n",
    "\n",
    "jobData = pd.get_dummies(jobData, columns=[\"required_education\"], prefix=[\"required_education_is\"], dtype=\"bool\")\n",
    "jobData = jobData.join(temp)"
   ]
  },
  {
   "cell_type": "code",
   "execution_count": 16,
   "metadata": {},
   "outputs": [],
   "source": [
    "temp = jobData[\"industry\"]\n",
    "\n",
    "jobData = pd.get_dummies(jobData, columns=[\"industry\"], prefix=[\"industry\"], dtype=\"bool\")\n",
    "jobData = jobData.join(temp)"
   ]
  },
  {
   "cell_type": "code",
   "execution_count": 19,
   "metadata": {},
   "outputs": [
    {
     "data": {
      "text/html": [
       "<div>\n",
       "<style scoped>\n",
       "    .dataframe tbody tr th:only-of-type {\n",
       "        vertical-align: middle;\n",
       "    }\n",
       "\n",
       "    .dataframe tbody tr th {\n",
       "        vertical-align: top;\n",
       "    }\n",
       "\n",
       "    .dataframe thead th {\n",
       "        text-align: right;\n",
       "    }\n",
       "</style>\n",
       "<table border=\"1\" class=\"dataframe\">\n",
       "  <thead>\n",
       "    <tr style=\"text-align: right;\">\n",
       "      <th></th>\n",
       "      <th>job_id</th>\n",
       "      <th>title</th>\n",
       "      <th>location</th>\n",
       "      <th>department</th>\n",
       "      <th>salary_range</th>\n",
       "      <th>company_profile</th>\n",
       "      <th>description</th>\n",
       "      <th>requirements</th>\n",
       "      <th>benefits</th>\n",
       "      <th>telecommuting</th>\n",
       "      <th>...</th>\n",
       "      <th>industry_Transportation/Trucking/Railroad</th>\n",
       "      <th>industry_Utilities</th>\n",
       "      <th>industry_Venture Capital &amp; Private Equity</th>\n",
       "      <th>industry_Veterinary</th>\n",
       "      <th>industry_Warehousing</th>\n",
       "      <th>industry_Wholesale</th>\n",
       "      <th>industry_Wine and Spirits</th>\n",
       "      <th>industry_Wireless</th>\n",
       "      <th>industry_Writing and Editing</th>\n",
       "      <th>industry</th>\n",
       "    </tr>\n",
       "  </thead>\n",
       "  <tbody>\n",
       "    <tr>\n",
       "      <th>0</th>\n",
       "      <td>1</td>\n",
       "      <td>Marketing Intern</td>\n",
       "      <td>US, NY, New York</td>\n",
       "      <td>Marketing</td>\n",
       "      <td>0</td>\n",
       "      <td>We're Food52, and we've created a groundbreaki...</td>\n",
       "      <td>Food52, a fast-growing, James Beard Award-winn...</td>\n",
       "      <td>Experience with content management systems a m...</td>\n",
       "      <td>NaN</td>\n",
       "      <td>0</td>\n",
       "      <td>...</td>\n",
       "      <td>False</td>\n",
       "      <td>False</td>\n",
       "      <td>False</td>\n",
       "      <td>False</td>\n",
       "      <td>False</td>\n",
       "      <td>False</td>\n",
       "      <td>False</td>\n",
       "      <td>False</td>\n",
       "      <td>False</td>\n",
       "      <td>Not specified</td>\n",
       "    </tr>\n",
       "    <tr>\n",
       "      <th>1</th>\n",
       "      <td>2</td>\n",
       "      <td>Customer Service - Cloud Video Production</td>\n",
       "      <td>NZ, , Auckland</td>\n",
       "      <td>Success</td>\n",
       "      <td>0</td>\n",
       "      <td>90 Seconds, the worlds Cloud Video Production ...</td>\n",
       "      <td>Organised - Focused - Vibrant - Awesome!Do you...</td>\n",
       "      <td>What we expect from you:Your key responsibilit...</td>\n",
       "      <td>What you will get from usThrough being part of...</td>\n",
       "      <td>0</td>\n",
       "      <td>...</td>\n",
       "      <td>False</td>\n",
       "      <td>False</td>\n",
       "      <td>False</td>\n",
       "      <td>False</td>\n",
       "      <td>False</td>\n",
       "      <td>False</td>\n",
       "      <td>False</td>\n",
       "      <td>False</td>\n",
       "      <td>False</td>\n",
       "      <td>Marketing and Advertising</td>\n",
       "    </tr>\n",
       "    <tr>\n",
       "      <th>2</th>\n",
       "      <td>3</td>\n",
       "      <td>Commissioning Machinery Assistant (CMA)</td>\n",
       "      <td>US, IA, Wever</td>\n",
       "      <td>NaN</td>\n",
       "      <td>0</td>\n",
       "      <td>Valor Services provides Workforce Solutions th...</td>\n",
       "      <td>Our client, located in Houston, is actively se...</td>\n",
       "      <td>Implement pre-commissioning and commissioning ...</td>\n",
       "      <td>NaN</td>\n",
       "      <td>0</td>\n",
       "      <td>...</td>\n",
       "      <td>False</td>\n",
       "      <td>False</td>\n",
       "      <td>False</td>\n",
       "      <td>False</td>\n",
       "      <td>False</td>\n",
       "      <td>False</td>\n",
       "      <td>False</td>\n",
       "      <td>False</td>\n",
       "      <td>False</td>\n",
       "      <td>Not specified</td>\n",
       "    </tr>\n",
       "    <tr>\n",
       "      <th>3</th>\n",
       "      <td>4</td>\n",
       "      <td>Account Executive - Washington DC</td>\n",
       "      <td>US, DC, Washington</td>\n",
       "      <td>Sales</td>\n",
       "      <td>0</td>\n",
       "      <td>Our passion for improving quality of life thro...</td>\n",
       "      <td>THE COMPANY: ESRI – Environmental Systems Rese...</td>\n",
       "      <td>EDUCATION: Bachelor’s or Master’s in GIS, busi...</td>\n",
       "      <td>Our culture is anything but corporate—we have ...</td>\n",
       "      <td>0</td>\n",
       "      <td>...</td>\n",
       "      <td>False</td>\n",
       "      <td>False</td>\n",
       "      <td>False</td>\n",
       "      <td>False</td>\n",
       "      <td>False</td>\n",
       "      <td>False</td>\n",
       "      <td>False</td>\n",
       "      <td>False</td>\n",
       "      <td>False</td>\n",
       "      <td>Computer Software</td>\n",
       "    </tr>\n",
       "    <tr>\n",
       "      <th>4</th>\n",
       "      <td>5</td>\n",
       "      <td>Bill Review Manager</td>\n",
       "      <td>US, FL, Fort Worth</td>\n",
       "      <td>NaN</td>\n",
       "      <td>0</td>\n",
       "      <td>SpotSource Solutions LLC is a Global Human Cap...</td>\n",
       "      <td>JOB TITLE: Itemization Review ManagerLOCATION:...</td>\n",
       "      <td>QUALIFICATIONS:RN license in the State of Texa...</td>\n",
       "      <td>Full Benefits Offered</td>\n",
       "      <td>0</td>\n",
       "      <td>...</td>\n",
       "      <td>False</td>\n",
       "      <td>False</td>\n",
       "      <td>False</td>\n",
       "      <td>False</td>\n",
       "      <td>False</td>\n",
       "      <td>False</td>\n",
       "      <td>False</td>\n",
       "      <td>False</td>\n",
       "      <td>False</td>\n",
       "      <td>Hospital &amp; Health Care</td>\n",
       "    </tr>\n",
       "    <tr>\n",
       "      <th>...</th>\n",
       "      <td>...</td>\n",
       "      <td>...</td>\n",
       "      <td>...</td>\n",
       "      <td>...</td>\n",
       "      <td>...</td>\n",
       "      <td>...</td>\n",
       "      <td>...</td>\n",
       "      <td>...</td>\n",
       "      <td>...</td>\n",
       "      <td>...</td>\n",
       "      <td>...</td>\n",
       "      <td>...</td>\n",
       "      <td>...</td>\n",
       "      <td>...</td>\n",
       "      <td>...</td>\n",
       "      <td>...</td>\n",
       "      <td>...</td>\n",
       "      <td>...</td>\n",
       "      <td>...</td>\n",
       "      <td>...</td>\n",
       "      <td>...</td>\n",
       "    </tr>\n",
       "    <tr>\n",
       "      <th>17875</th>\n",
       "      <td>17876</td>\n",
       "      <td>Account Director - Distribution</td>\n",
       "      <td>CA, ON, Toronto</td>\n",
       "      <td>Sales</td>\n",
       "      <td>0</td>\n",
       "      <td>Vend is looking for some awesome new talent to...</td>\n",
       "      <td>Just in case this is the first time you’ve vis...</td>\n",
       "      <td>To ace this role you:Will eat comprehensive St...</td>\n",
       "      <td>What can you expect from us?We have an open cu...</td>\n",
       "      <td>0</td>\n",
       "      <td>...</td>\n",
       "      <td>False</td>\n",
       "      <td>False</td>\n",
       "      <td>False</td>\n",
       "      <td>False</td>\n",
       "      <td>False</td>\n",
       "      <td>False</td>\n",
       "      <td>False</td>\n",
       "      <td>False</td>\n",
       "      <td>False</td>\n",
       "      <td>Computer Software</td>\n",
       "    </tr>\n",
       "    <tr>\n",
       "      <th>17876</th>\n",
       "      <td>17877</td>\n",
       "      <td>Payroll Accountant</td>\n",
       "      <td>US, PA, Philadelphia</td>\n",
       "      <td>Accounting</td>\n",
       "      <td>0</td>\n",
       "      <td>WebLinc is the e-commerce platform and service...</td>\n",
       "      <td>The Payroll Accountant will focus primarily on...</td>\n",
       "      <td>- B.A. or B.S. in Accounting- Desire to have f...</td>\n",
       "      <td>Health &amp;amp; WellnessMedical planPrescription ...</td>\n",
       "      <td>0</td>\n",
       "      <td>...</td>\n",
       "      <td>False</td>\n",
       "      <td>False</td>\n",
       "      <td>False</td>\n",
       "      <td>False</td>\n",
       "      <td>False</td>\n",
       "      <td>False</td>\n",
       "      <td>False</td>\n",
       "      <td>False</td>\n",
       "      <td>False</td>\n",
       "      <td>Internet</td>\n",
       "    </tr>\n",
       "    <tr>\n",
       "      <th>17877</th>\n",
       "      <td>17878</td>\n",
       "      <td>Project Cost Control Staff Engineer - Cost Con...</td>\n",
       "      <td>US, TX, Houston</td>\n",
       "      <td>NaN</td>\n",
       "      <td>0</td>\n",
       "      <td>We Provide Full Time Permanent Positions for m...</td>\n",
       "      <td>Experienced Project Cost Control Staff Enginee...</td>\n",
       "      <td>At least 12 years professional experience.Abil...</td>\n",
       "      <td>NaN</td>\n",
       "      <td>0</td>\n",
       "      <td>...</td>\n",
       "      <td>False</td>\n",
       "      <td>False</td>\n",
       "      <td>False</td>\n",
       "      <td>False</td>\n",
       "      <td>False</td>\n",
       "      <td>False</td>\n",
       "      <td>False</td>\n",
       "      <td>False</td>\n",
       "      <td>False</td>\n",
       "      <td>Not specified</td>\n",
       "    </tr>\n",
       "    <tr>\n",
       "      <th>17878</th>\n",
       "      <td>17879</td>\n",
       "      <td>Graphic Designer</td>\n",
       "      <td>NG, LA, Lagos</td>\n",
       "      <td>NaN</td>\n",
       "      <td>0</td>\n",
       "      <td>NaN</td>\n",
       "      <td>Nemsia Studios is looking for an experienced v...</td>\n",
       "      <td>1. Must be fluent in the latest versions of Co...</td>\n",
       "      <td>Competitive salary (compensation will be based...</td>\n",
       "      <td>0</td>\n",
       "      <td>...</td>\n",
       "      <td>False</td>\n",
       "      <td>False</td>\n",
       "      <td>False</td>\n",
       "      <td>False</td>\n",
       "      <td>False</td>\n",
       "      <td>False</td>\n",
       "      <td>False</td>\n",
       "      <td>False</td>\n",
       "      <td>False</td>\n",
       "      <td>Graphic Design</td>\n",
       "    </tr>\n",
       "    <tr>\n",
       "      <th>17879</th>\n",
       "      <td>17880</td>\n",
       "      <td>Web Application Developers</td>\n",
       "      <td>NZ, N, Wellington</td>\n",
       "      <td>Engineering</td>\n",
       "      <td>0</td>\n",
       "      <td>Vend is looking for some awesome new talent to...</td>\n",
       "      <td>Who are we?Vend is an award winning web based ...</td>\n",
       "      <td>We want to hear from you if:You have an in-dep...</td>\n",
       "      <td>NaN</td>\n",
       "      <td>0</td>\n",
       "      <td>...</td>\n",
       "      <td>False</td>\n",
       "      <td>False</td>\n",
       "      <td>False</td>\n",
       "      <td>False</td>\n",
       "      <td>False</td>\n",
       "      <td>False</td>\n",
       "      <td>False</td>\n",
       "      <td>False</td>\n",
       "      <td>False</td>\n",
       "      <td>Computer Software</td>\n",
       "    </tr>\n",
       "  </tbody>\n",
       "</table>\n",
       "<p>17880 rows × 310 columns</p>\n",
       "</div>"
      ],
      "text/plain": [
       "       job_id                                              title  \\\n",
       "0           1                                   Marketing Intern   \n",
       "1           2          Customer Service - Cloud Video Production   \n",
       "2           3            Commissioning Machinery Assistant (CMA)   \n",
       "3           4                  Account Executive - Washington DC   \n",
       "4           5                                Bill Review Manager   \n",
       "...       ...                                                ...   \n",
       "17875   17876                   Account Director - Distribution    \n",
       "17876   17877                                 Payroll Accountant   \n",
       "17877   17878  Project Cost Control Staff Engineer - Cost Con...   \n",
       "17878   17879                                   Graphic Designer   \n",
       "17879   17880                         Web Application Developers   \n",
       "\n",
       "                   location   department salary_range  \\\n",
       "0          US, NY, New York    Marketing            0   \n",
       "1            NZ, , Auckland      Success            0   \n",
       "2             US, IA, Wever          NaN            0   \n",
       "3        US, DC, Washington        Sales            0   \n",
       "4        US, FL, Fort Worth          NaN            0   \n",
       "...                     ...          ...          ...   \n",
       "17875       CA, ON, Toronto        Sales            0   \n",
       "17876  US, PA, Philadelphia   Accounting            0   \n",
       "17877       US, TX, Houston          NaN            0   \n",
       "17878         NG, LA, Lagos          NaN            0   \n",
       "17879     NZ, N, Wellington  Engineering            0   \n",
       "\n",
       "                                         company_profile  \\\n",
       "0      We're Food52, and we've created a groundbreaki...   \n",
       "1      90 Seconds, the worlds Cloud Video Production ...   \n",
       "2      Valor Services provides Workforce Solutions th...   \n",
       "3      Our passion for improving quality of life thro...   \n",
       "4      SpotSource Solutions LLC is a Global Human Cap...   \n",
       "...                                                  ...   \n",
       "17875  Vend is looking for some awesome new talent to...   \n",
       "17876  WebLinc is the e-commerce platform and service...   \n",
       "17877  We Provide Full Time Permanent Positions for m...   \n",
       "17878                                                NaN   \n",
       "17879  Vend is looking for some awesome new talent to...   \n",
       "\n",
       "                                             description  \\\n",
       "0      Food52, a fast-growing, James Beard Award-winn...   \n",
       "1      Organised - Focused - Vibrant - Awesome!Do you...   \n",
       "2      Our client, located in Houston, is actively se...   \n",
       "3      THE COMPANY: ESRI – Environmental Systems Rese...   \n",
       "4      JOB TITLE: Itemization Review ManagerLOCATION:...   \n",
       "...                                                  ...   \n",
       "17875  Just in case this is the first time you’ve vis...   \n",
       "17876  The Payroll Accountant will focus primarily on...   \n",
       "17877  Experienced Project Cost Control Staff Enginee...   \n",
       "17878  Nemsia Studios is looking for an experienced v...   \n",
       "17879  Who are we?Vend is an award winning web based ...   \n",
       "\n",
       "                                            requirements  \\\n",
       "0      Experience with content management systems a m...   \n",
       "1      What we expect from you:Your key responsibilit...   \n",
       "2      Implement pre-commissioning and commissioning ...   \n",
       "3      EDUCATION: Bachelor’s or Master’s in GIS, busi...   \n",
       "4      QUALIFICATIONS:RN license in the State of Texa...   \n",
       "...                                                  ...   \n",
       "17875  To ace this role you:Will eat comprehensive St...   \n",
       "17876  - B.A. or B.S. in Accounting- Desire to have f...   \n",
       "17877  At least 12 years professional experience.Abil...   \n",
       "17878  1. Must be fluent in the latest versions of Co...   \n",
       "17879  We want to hear from you if:You have an in-dep...   \n",
       "\n",
       "                                                benefits  telecommuting  ...  \\\n",
       "0                                                    NaN              0  ...   \n",
       "1      What you will get from usThrough being part of...              0  ...   \n",
       "2                                                    NaN              0  ...   \n",
       "3      Our culture is anything but corporate—we have ...              0  ...   \n",
       "4                                  Full Benefits Offered              0  ...   \n",
       "...                                                  ...            ...  ...   \n",
       "17875  What can you expect from us?We have an open cu...              0  ...   \n",
       "17876  Health &amp; WellnessMedical planPrescription ...              0  ...   \n",
       "17877                                                NaN              0  ...   \n",
       "17878  Competitive salary (compensation will be based...              0  ...   \n",
       "17879                                                NaN              0  ...   \n",
       "\n",
       "       industry_Transportation/Trucking/Railroad  industry_Utilities  \\\n",
       "0                                          False               False   \n",
       "1                                          False               False   \n",
       "2                                          False               False   \n",
       "3                                          False               False   \n",
       "4                                          False               False   \n",
       "...                                          ...                 ...   \n",
       "17875                                      False               False   \n",
       "17876                                      False               False   \n",
       "17877                                      False               False   \n",
       "17878                                      False               False   \n",
       "17879                                      False               False   \n",
       "\n",
       "       industry_Venture Capital & Private Equity  industry_Veterinary  \\\n",
       "0                                          False                False   \n",
       "1                                          False                False   \n",
       "2                                          False                False   \n",
       "3                                          False                False   \n",
       "4                                          False                False   \n",
       "...                                          ...                  ...   \n",
       "17875                                      False                False   \n",
       "17876                                      False                False   \n",
       "17877                                      False                False   \n",
       "17878                                      False                False   \n",
       "17879                                      False                False   \n",
       "\n",
       "       industry_Warehousing  industry_Wholesale  industry_Wine and Spirits  \\\n",
       "0                     False               False                      False   \n",
       "1                     False               False                      False   \n",
       "2                     False               False                      False   \n",
       "3                     False               False                      False   \n",
       "4                     False               False                      False   \n",
       "...                     ...                 ...                        ...   \n",
       "17875                 False               False                      False   \n",
       "17876                 False               False                      False   \n",
       "17877                 False               False                      False   \n",
       "17878                 False               False                      False   \n",
       "17879                 False               False                      False   \n",
       "\n",
       "       industry_Wireless  industry_Writing and Editing  \\\n",
       "0                  False                         False   \n",
       "1                  False                         False   \n",
       "2                  False                         False   \n",
       "3                  False                         False   \n",
       "4                  False                         False   \n",
       "...                  ...                           ...   \n",
       "17875              False                         False   \n",
       "17876              False                         False   \n",
       "17877              False                         False   \n",
       "17878              False                         False   \n",
       "17879              False                         False   \n",
       "\n",
       "                        industry  \n",
       "0                  Not specified  \n",
       "1      Marketing and Advertising  \n",
       "2                  Not specified  \n",
       "3              Computer Software  \n",
       "4         Hospital & Health Care  \n",
       "...                          ...  \n",
       "17875          Computer Software  \n",
       "17876                   Internet  \n",
       "17877              Not specified  \n",
       "17878             Graphic Design  \n",
       "17879          Computer Software  \n",
       "\n",
       "[17880 rows x 310 columns]"
      ]
     },
     "execution_count": 19,
     "metadata": {},
     "output_type": "execute_result"
    }
   ],
   "source": [
    "jobData"
   ]
  },
  {
   "cell_type": "markdown",
   "metadata": {},
   "source": [
    "---\n",
    "\n",
    "# Convert `telecommuting`, `has_company_logo`, `has_questions` columns dtype to bool\n",
    "\n"
   ]
  },
  {
   "cell_type": "code",
   "execution_count": 20,
   "metadata": {},
   "outputs": [],
   "source": [
    "jobData['telecommuting'] = jobData['telecommuting'].astype(bool)\n",
    "jobData['has_company_logo'] = jobData['has_company_logo'].astype(bool)\n",
    "jobData['has_questions'] = jobData['has_questions'].astype(bool)"
   ]
  },
  {
   "cell_type": "markdown",
   "metadata": {},
   "source": [
    "---\n",
    "# Applying NLP to generate `NLP_pred`\n"
   ]
  },
  {
   "cell_type": "code",
   "execution_count": 21,
   "metadata": {},
   "outputs": [],
   "source": [
    "jobData = jobData.astype({\n",
    "    'title': 'string',\n",
    "    'department': 'string',   \n",
    "    'company_profile': 'string',\n",
    "    'description': 'string',\n",
    "    'requirements': 'string',\n",
    "    'benefits': 'string',\n",
    "})"
   ]
  },
  {
   "cell_type": "code",
   "execution_count": 22,
   "metadata": {},
   "outputs": [],
   "source": [
    "jobData['department'].fillna(value='NODEPARTMENT', inplace=True)\n",
    "jobData['company_profile'].fillna(value='NOCOMPANYPROFILE', inplace=True)\n",
    "jobData['description'].fillna(value='NODESCRIPTION', inplace=True)\n",
    "jobData['requirements'].fillna(value='NOREQUIREMENTS', inplace=True)\n",
    "jobData['benefits'].fillna(value='NOBENEFITS', inplace=True)"
   ]
  },
  {
   "cell_type": "code",
   "execution_count": 23,
   "metadata": {},
   "outputs": [
    {
     "data": {
      "text/plain": [
       "0        Marketing Intern Marketing We're Food52, and w...\n",
       "1        Customer Service - Cloud Video Production Succ...\n",
       "2        Commissioning Machinery Assistant (CMA) NODEPA...\n",
       "3        Account Executive - Washington DC Sales Our pa...\n",
       "4        Bill Review Manager NODEPARTMENT SpotSource So...\n",
       "                               ...                        \n",
       "17875    Account Director - Distribution  Sales Vend is...\n",
       "17876    Payroll Accountant Accounting WebLinc is the e...\n",
       "17877    Project Cost Control Staff Engineer - Cost Con...\n",
       "17878    Graphic Designer NODEPARTMENT NOCOMPANYPROFILE...\n",
       "17879    Web Application Developers Engineering Vend is...\n",
       "Length: 17880, dtype: object"
      ]
     },
     "execution_count": 23,
     "metadata": {},
     "output_type": "execute_result"
    }
   ],
   "source": [
    "documents = jobData[['title', 'department', 'company_profile', 'description', 'requirements', 'benefits']].agg(' '.join, axis=1)\n",
    "documents"
   ]
  },
  {
   "cell_type": "code",
   "execution_count": 24,
   "metadata": {},
   "outputs": [],
   "source": [
    "from nltk import pos_tag\n",
    "from nltk.tokenize import RegexpTokenizer\n",
    "from nltk.corpus import stopwords\n",
    "from nltk.corpus import wordnet\n",
    "from nltk.stem.wordnet import WordNetLemmatizer\n",
    "\n",
    "#Initializes objects needed to perform cleaning\n",
    "regex_token = RegexpTokenizer(r'[a-zA-Z0-9\\-]+')\n",
    "stop_words = set(stopwords.words('english')) \n",
    "lem = WordNetLemmatizer()\n",
    "\n",
    "#Converts part of speech tag from treebank syntax to wordnet syntax\n",
    "def get_wordnet_pos(treebank_tag):\n",
    "\n",
    "    if treebank_tag.startswith('J'):\n",
    "        return wordnet.ADJ\n",
    "    elif treebank_tag.startswith('V'):\n",
    "        return wordnet.VERB\n",
    "    elif treebank_tag.startswith('N'):\n",
    "        return wordnet.NOUN\n",
    "    elif treebank_tag.startswith('R'):\n",
    "        return wordnet.ADV\n",
    "    return 'v'\n",
    "\n",
    "#Function to tokenize, filter stop words and lemmatize words in text data\n",
    "def pre_process_lem(text):\n",
    "    \n",
    "    #perform tokenization to obtain a list of words, with each word as an individual element\n",
    "    tokenized_text = regex_token.tokenize(text.lower())\n",
    "    \n",
    "    #Filter out stop words with a loop, adding filtered words to a new list\n",
    "    filtered_tokens=[]\n",
    "    for word in tokenized_text:\n",
    "        if word not in stop_words:\n",
    "            filtered_tokens.append(word)\n",
    "    \n",
    "    #Tags filtered words with their relevant part of speech. Tagging is necessary for lemmatization.\n",
    "    #Returns a tuple (<word>, <tag>), but tag is in treebank syntax.\n",
    "    tagged_words = pos_tag(filtered_tokens)\n",
    "    \n",
    "    #Uses a loop to lemmatize words then add them to a new list\n",
    "    lemmed_words = []\n",
    "    for tagged_word in tagged_words:\n",
    "        #Lemmatizer method takes in (<word>, pos=<tag>) as inputs\n",
    "        #The get_wordnet_pos() method is needed to convert tags from treebank syntax to wordnet syntax.\n",
    "        lemmed_word = lem.lemmatize( tagged_word[0] , pos=get_wordnet_pos(tagged_word[1]) )\n",
    "        lemmed_words.append(lemmed_word)\n",
    "        \n",
    "    return \" \".join(lemmed_words)"
   ]
  },
  {
   "cell_type": "code",
   "execution_count": 25,
   "metadata": {},
   "outputs": [
    {
     "data": {
      "text/plain": [
       "0        marketing intern marketing food52 create groun...\n",
       "1        customer service - cloud video production succ...\n",
       "2        commission machinery assistant cma nodepartmen...\n",
       "3        account executive - washington dc sale passion...\n",
       "4        bill review manager nodepartment spotsource so...\n",
       "                               ...                        \n",
       "17875    account director - distribution sale vend look...\n",
       "17876    payroll accountant accounting weblinc e-commer...\n",
       "17877    project cost control staff engineer - cost con...\n",
       "17878    graphic designer nodepartment nocompanyprofile...\n",
       "17879    web application developer engineering vend loo...\n",
       "Length: 17880, dtype: object"
      ]
     },
     "execution_count": 25,
     "metadata": {},
     "output_type": "execute_result"
    }
   ],
   "source": [
    "lemmatized_documents = documents.apply(pre_process_lem)\n",
    "lemmatized_documents"
   ]
  },
  {
   "cell_type": "code",
   "execution_count": 26,
   "metadata": {},
   "outputs": [
    {
     "data": {
      "text/plain": [
       "<17880x893991 sparse matrix of type '<class 'numpy.int64'>'\n",
       "\twith 4116089 stored elements in Compressed Sparse Row format>"
      ]
     },
     "execution_count": 26,
     "metadata": {},
     "output_type": "execute_result"
    }
   ],
   "source": [
    "from sklearn.feature_extraction.text import CountVectorizer\n",
    "#Bigram is used. It finds count of each pair words in the text. feature extraction\n",
    "cv = CountVectorizer(ngram_range=(2,2))\n",
    "\n",
    "#Vectorizer converts the list of words into a proper matrix of word counts for each word, for each data entry\n",
    "X_text_data = cv.fit_transform(lemmatized_documents)\n",
    "y_text_data = jobData['fraudulent']\n",
    "X_text_data"
   ]
  },
  {
   "cell_type": "code",
   "execution_count": 27,
   "metadata": {},
   "outputs": [
    {
     "data": {
      "text/plain": [
       "MultinomialNB()"
      ]
     },
     "execution_count": 27,
     "metadata": {},
     "output_type": "execute_result"
    }
   ],
   "source": [
    "from sklearn.model_selection import train_test_split\n",
    "from sklearn.naive_bayes import MultinomialNB\n",
    "\n",
    "X_text_train, X_text_test, y_text_train, y_text_test = train_test_split(X_text_data, y_text_data, test_size=0.3)\n",
    "mnb = MultinomialNB()\n",
    "mnb.fit(X_text_train, y_text_train)"
   ]
  },
  {
   "cell_type": "code",
   "execution_count": 28,
   "metadata": {},
   "outputs": [
    {
     "name": "stdout",
     "output_type": "stream",
     "text": [
      "Accuracy:\t 0.9891339085969958\n",
      "F1 score:\t 0.9004392386530015\n"
     ]
    },
    {
     "data": {
      "text/plain": [
       "<AxesSubplot:>"
      ]
     },
     "execution_count": 28,
     "metadata": {},
     "output_type": "execute_result"
    },
    {
     "data": {
      "image/png": "[encoded data removed]",
      "text/plain": [
       "<Figure size 432x288 with 2 Axes>"
      ]
     },
     "metadata": {},
     "output_type": "display_data"
    }
   ],
   "source": [
    "from sklearn.metrics import confusion_matrix\n",
    "from sklearn.metrics import f1_score\n",
    "\n",
    "pred_text_train = pd.DataFrame(mnb.predict(X_text_train), columns=['prediction'], index=y_text_train.index)\n",
    "\n",
    "print(\"Accuracy:\\t\", mnb.score(X_text_train, y_text_train))\n",
    "print(\"F1 score:\\t\", f1_score(y_text_train, pred_text_train))\n",
    "sb.heatmap(confusion_matrix(y_text_train, pred_text_train), annot=True, fmt='d')"
   ]
  },
  {
   "cell_type": "code",
   "execution_count": 29,
   "metadata": {},
   "outputs": [
    {
     "name": "stdout",
     "output_type": "stream",
     "text": [
      "Accuracy:\t 0.9075316927665921\n",
      "F1 score:\t 0.45494505494505494\n"
     ]
    },
    {
     "data": {
      "text/plain": [
       "<AxesSubplot:>"
      ]
     },
     "execution_count": 29,
     "metadata": {},
     "output_type": "execute_result"
    },
    {
     "data": {
      "image/png": "[encoded data removed]",
      "text/plain": [
       "<Figure size 432x288 with 2 Axes>"
      ]
     },
     "metadata": {},
     "output_type": "display_data"
    }
   ],
   "source": [
    "pred_text_test = pd.DataFrame(mnb.predict(X_text_test), columns=['prediction'], index=y_text_test.index)\n",
    "\n",
    "print(\"Accuracy:\\t\", mnb.score(X_text_test, y_text_test))\n",
    "print(\"F1 score:\\t\", f1_score(y_text_test, pred_text_test))\n",
    "sb.heatmap(confusion_matrix(y_text_test, pred_text_test), annot=True, fmt='d')"
   ]
  },
  {
   "cell_type": "code",
   "execution_count": 30,
   "metadata": {},
   "outputs": [
    {
     "data": {
      "text/plain": [
       "0        2.629340e-139\n",
       "1         0.000000e+00\n",
       "2         6.502073e-99\n",
       "3         0.000000e+00\n",
       "4        1.449043e-191\n",
       "             ...      \n",
       "17875     0.000000e+00\n",
       "17876    1.084576e-157\n",
       "17877    3.162078e-143\n",
       "17878     5.546700e-30\n",
       "17879     0.000000e+00\n",
       "Name: nlp_p_fraud, Length: 17880, dtype: float64"
      ]
     },
     "execution_count": 30,
     "metadata": {},
     "output_type": "execute_result"
    }
   ],
   "source": [
    "nlp_pred = pd.DataFrame(mnb.predict_proba(X_text_data), columns=['nlp_p_real', 'nlp_p_fraud'])['nlp_p_fraud']\n",
    "nlp_pred"
   ]
  },
  {
   "cell_type": "code",
   "execution_count": 31,
   "metadata": {},
   "outputs": [],
   "source": [
    "jobData[\"NLP_Pred\"] = nlp_pred"
   ]
  },
  {
   "cell_type": "markdown",
   "metadata": {},
   "source": [
    "---\n",
    "\n",
    "# Exporting the cleaned dataset"
   ]
  },
  {
   "cell_type": "code",
   "execution_count": 32,
   "metadata": {},
   "outputs": [
    {
     "data": {
      "text/plain": [
       "job_id                            int64\n",
       "title                            string\n",
       "location                         object\n",
       "department                       string\n",
       "salary_range                     object\n",
       "                                 ...   \n",
       "industry_Wine and Spirits          bool\n",
       "industry_Wireless                  bool\n",
       "industry_Writing and Editing       bool\n",
       "industry                         object\n",
       "NLP_Pred                        float64\n",
       "Length: 311, dtype: object"
      ]
     },
     "execution_count": 32,
     "metadata": {},
     "output_type": "execute_result"
    }
   ],
   "source": [
    "jobData.dtypes"
   ]
  },
  {
   "cell_type": "code",
   "execution_count": 34,
   "metadata": {},
   "outputs": [],
   "source": [
    "jobData.to_csv('cleaned_data.csv', index=False) "
   ]
  }
 ],
 "metadata": {
  "interpreter": {
   "hash": "6d46af94c2bbce495f1e668725902fa517c90b1782bcfe2fce0dd9868df553d3"
  },
  "kernelspec": {
   "display_name": "Python 3.8.8 64-bit ('base': conda)",
   "name": "python3"
  },
  "language_info": {
   "codemirror_mode": {
    "name": "ipython",
    "version": 3
   },
   "file_extension": ".py",
   "mimetype": "text/x-python",
   "name": "python",
   "nbconvert_exporter": "python",
   "pygments_lexer": "ipython3",
   "version": "3.8.8"
  },
  "orig_nbformat": 4
 },
 "nbformat": 4,
 "nbformat_minor": 2
}
