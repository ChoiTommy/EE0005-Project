{
 "cells": [
  {
   "cell_type": "code",
   "execution_count": 1,
   "metadata": {},
   "outputs": [],
   "source": [
    "# Basic Libraries\n",
    "import numpy as np\n",
    "import pandas as pd\n",
    "import seaborn as sb\n",
    "import matplotlib.pyplot as plt # we only need pyplot\n",
    "sb.set() # set the default Seaborn style for graphics"
   ]
  },
  {
   "cell_type": "code",
   "execution_count": 2,
   "metadata": {},
   "outputs": [],
   "source": [
    "jobData = pd.read_csv('fake_job_postings.csv')"
   ]
  },
  {
   "cell_type": "markdown",
   "metadata": {},
   "source": [
    "---\n",
    "# Extracting `salary_range`\n",
    "\n",
    "The cleaned salary range are stored in column `salary_lower_limit` and `salary_upper_limit`\n",
    "\n",
    "for data like \"40000-59000\", the corresponding lower and upper limits are 40000 and 59000\n",
    "\n",
    "for data with NaN, they are all stored as (0, 0)\n",
    "\n",
    "for data with just one value like \"40000\", lower limit is stored as 0 and upper as 40000"
   ]
  },
  {
   "cell_type": "code",
   "execution_count": 3,
   "metadata": {},
   "outputs": [],
   "source": [
    "def extract_salary_range(t):\n",
    "    a_string_lowercase = t.lower()\n",
    "    if a_string_lowercase.islower():\n",
    "        return (0, 0)\n",
    "    return (0, int(t)) if '-' not in t else (int(t.split('-')[0]), int(t.split('-')[1]))"
   ]
  },
  {
   "cell_type": "code",
   "execution_count": 4,
   "metadata": {},
   "outputs": [],
   "source": [
    "jobData['salary_range'] = jobData['salary_range'].fillna('0')"
   ]
  },
  {
   "cell_type": "code",
   "execution_count": 5,
   "metadata": {},
   "outputs": [],
   "source": [
    "lower = []\n",
    "upper = []\n",
    "for i in range(len(jobData)):\n",
    "    l, u = extract_salary_range(jobData['salary_range'][i])\n",
    "    lower.append(l)\n",
    "    upper.append(u)\n",
    "\n",
    "jobData[\"salary_lower_limit\"] = lower\n",
    "jobData[\"salary_upper_limit\"] = upper"
   ]
  },
  {
   "cell_type": "code",
   "execution_count": null,
   "metadata": {},
   "outputs": [],
   "source": [
    "#jobData[[\"salary_range\", \"salary_lower_limit\", \"salary_upper_limit\"]].head(50)"
   ]
  },
  {
   "cell_type": "markdown",
   "metadata": {},
   "source": [
    "---\n",
    "\n",
    "# Cleaning `function` using one-hot encoding\n",
    "\n",
    "Columns can be accessed by using `function_type_is_<function name>`.\n",
    "\n",
    "For example, if you want to know whether the job has the function of 'Marketing', simply use `jobPostings[\"function_type_is_Marketing\"]` to generate a column of bool."
   ]
  },
  {
   "cell_type": "code",
   "execution_count": 6,
   "metadata": {},
   "outputs": [],
   "source": [
    "jobData[\"function\"] = jobData[\"function\"].fillna('Not specified')\n",
    "jobData[\"function\"] = jobData[\"function\"].astype(\"category\")"
   ]
  },
  {
   "cell_type": "code",
   "execution_count": 7,
   "metadata": {},
   "outputs": [],
   "source": [
    "temp = jobData[\"function\"]\n",
    "\n",
    "# generate binary values using get_dummies\n",
    "jobData = pd.get_dummies(jobData, columns=[\"function\"], prefix=[\"function_type_is\"], dtype=\"bool\")\n",
    "jobData = jobData.join(temp)"
   ]
  },
  {
   "cell_type": "code",
   "execution_count": null,
   "metadata": {},
   "outputs": [],
   "source": [
    "#jobData.dtypes"
   ]
  },
  {
   "cell_type": "markdown",
   "metadata": {},
   "source": [
    "---\n",
    "\n",
    "# Extract country codes from `location` to column `country_code`\n",
    "\n",
    "'NS' refers to not being specified, rather than a actual country code."
   ]
  },
  {
   "cell_type": "code",
   "execution_count": 8,
   "metadata": {},
   "outputs": [],
   "source": [
    "jobData[\"location\"] = jobData[\"location\"].fillna(\"NS\") # Not specified"
   ]
  },
  {
   "cell_type": "code",
   "execution_count": 9,
   "metadata": {},
   "outputs": [],
   "source": [
    "def extract_country_code(t):\n",
    "    return t[:2]"
   ]
  },
  {
   "cell_type": "code",
   "execution_count": 10,
   "metadata": {},
   "outputs": [],
   "source": [
    "code = []\n",
    "for i in range(len(jobData)):\n",
    "    code.append(extract_country_code(jobData[\"location\"][i]))\n",
    "\n",
    "jobData[\"country_code\"] = code\n",
    "jobData[\"country_code\"] = jobData[\"country_code\"].astype(\"category\")"
   ]
  },
  {
   "cell_type": "code",
   "execution_count": 11,
   "metadata": {},
   "outputs": [],
   "source": [
    "temp = jobData[\"country_code\"]\n",
    "\n",
    "# generate binary values using get_dummies\n",
    "jobData = pd.get_dummies(jobData, columns=[\"country_code\"], prefix=[\"country_code_is\"], dtype=\"bool\")\n",
    "jobData = jobData.join(temp)"
   ]
  },
  {
   "cell_type": "code",
   "execution_count": 12,
   "metadata": {},
   "outputs": [
    {
     "data": {
      "text/plain": [
       "job_id                   int64\n",
       "title                   object\n",
       "location                object\n",
       "department              object\n",
       "salary_range            object\n",
       "                        ...   \n",
       "country_code_is_VI        bool\n",
       "country_code_is_VN        bool\n",
       "country_code_is_ZA        bool\n",
       "country_code_is_ZM        bool\n",
       "country_code          category\n",
       "Length: 150, dtype: object"
      ]
     },
     "execution_count": 12,
     "metadata": {},
     "output_type": "execute_result"
    }
   ],
   "source": [
    "jobData.dtypes"
   ]
  },
  {
   "cell_type": "markdown",
   "metadata": {},
   "source": [
    "---\n",
    "\n",
    "# Convert `telecommuting`, `has_company_logo`, `has_questions` columns dtype to bool\n",
    "\n"
   ]
  },
  {
   "cell_type": "code",
   "execution_count": 13,
   "metadata": {},
   "outputs": [],
   "source": [
    "jobData['telecommuting'] = jobData['telecommuting'].astype(bool)\n",
    "jobData['has_company_logo'] = jobData['has_company_logo'].astype(bool)\n",
    "jobData['has_questions'] = jobData['has_questions'].astype(bool)"
   ]
  },
  {
   "cell_type": "markdown",
   "metadata": {},
   "source": [
    "---\n",
    "\n"
   ]
  },
  {
   "cell_type": "code",
   "execution_count": 14,
   "metadata": {},
   "outputs": [],
   "source": [
    "jobData = jobData.astype({\n",
    "    'title': 'string',\n",
    "    'department': 'string',   \n",
    "    'company_profile': 'string',\n",
    "    'description': 'string',\n",
    "    'requirements': 'string',\n",
    "    'benefits': 'string',\n",
    "})"
   ]
  },
  {
   "cell_type": "code",
   "execution_count": 15,
   "metadata": {},
   "outputs": [],
   "source": [
    "jobData['department'].fillna(value='NODEPARTMENT', inplace=True)\n",
    "jobData['company_profile'].fillna(value='NOCOMPANYPROFILE', inplace=True)\n",
    "jobData['description'].fillna(value='NODESCRIPTION', inplace=True)\n",
    "jobData['requirements'].fillna(value='NOREQUIREMENTS', inplace=True)\n",
    "jobData['benefits'].fillna(value='NOBENEFITS', inplace=True)"
   ]
  },
  {
   "cell_type": "code",
   "execution_count": 16,
   "metadata": {},
   "outputs": [
    {
     "data": {
      "text/plain": [
       "0        Marketing Intern Marketing We're Food52, and w...\n",
       "1        Customer Service - Cloud Video Production Succ...\n",
       "2        Commissioning Machinery Assistant (CMA) NODEPA...\n",
       "3        Account Executive - Washington DC Sales Our pa...\n",
       "4        Bill Review Manager NODEPARTMENT SpotSource So...\n",
       "                               ...                        \n",
       "17875    Account Director - Distribution  Sales Vend is...\n",
       "17876    Payroll Accountant Accounting WebLinc is the e...\n",
       "17877    Project Cost Control Staff Engineer - Cost Con...\n",
       "17878    Graphic Designer NODEPARTMENT NOCOMPANYPROFILE...\n",
       "17879    Web Application Developers Engineering Vend is...\n",
       "Length: 17880, dtype: object"
      ]
     },
     "execution_count": 16,
     "metadata": {},
     "output_type": "execute_result"
    }
   ],
   "source": [
    "documents = jobData[['title', 'department', 'company_profile', 'description', 'requirements', 'benefits']].agg(' '.join, axis=1)\n",
    "documents"
   ]
  },
  {
   "cell_type": "code",
   "execution_count": 17,
   "metadata": {},
   "outputs": [],
   "source": [
    "from nltk import pos_tag\n",
    "from nltk.tokenize import RegexpTokenizer\n",
    "from nltk.corpus import stopwords\n",
    "from nltk.corpus import wordnet\n",
    "from nltk.stem.wordnet import WordNetLemmatizer\n",
    "\n",
    "#Initializes objects needed to perform cleaning\n",
    "regex_token = RegexpTokenizer(r'[a-zA-Z0-9\\-]+')\n",
    "stop_words = set(stopwords.words('english')) \n",
    "lem = WordNetLemmatizer()\n",
    "\n",
    "#Converts part of speech tag from treebank syntax to wordnet syntax\n",
    "def get_wordnet_pos(treebank_tag):\n",
    "\n",
    "    if treebank_tag.startswith('J'):\n",
    "        return wordnet.ADJ\n",
    "    elif treebank_tag.startswith('V'):\n",
    "        return wordnet.VERB\n",
    "    elif treebank_tag.startswith('N'):\n",
    "        return wordnet.NOUN\n",
    "    elif treebank_tag.startswith('R'):\n",
    "        return wordnet.ADV\n",
    "    return 'v'\n",
    "\n",
    "#Function to tokenize, filter stop words and lemmatize words in text data\n",
    "def pre_process_lem(text):\n",
    "    \n",
    "    #perform tokenization to obtain a list of words, with each word as an individual element\n",
    "    tokenized_text = regex_token.tokenize(text.lower())\n",
    "    \n",
    "    #Filter out stop words with a loop, adding filtered words to a new list\n",
    "    filtered_tokens=[]\n",
    "    for word in tokenized_text:\n",
    "        if word not in stop_words:\n",
    "            filtered_tokens.append(word)\n",
    "    \n",
    "    #Tags filtered words with their relevant part of speech. Tagging is necessary for lemmatization.\n",
    "    #Returns a tuple (<word>, <tag>), but tag is in treebank syntax.\n",
    "    tagged_words = pos_tag(filtered_tokens)\n",
    "    \n",
    "    #Uses a loop to lemmatize words then add them to a new list\n",
    "    lemmed_words = []\n",
    "    for tagged_word in tagged_words:\n",
    "        #Lemmatizer method takes in (<word>, pos=<tag>) as inputs\n",
    "        #The get_wordnet_pos() method is needed to convert tags from treebank syntax to wordnet syntax.\n",
    "        lemmed_word = lem.lemmatize( tagged_word[0] , pos=get_wordnet_pos(tagged_word[1]) )\n",
    "        lemmed_words.append(lemmed_word)\n",
    "        \n",
    "    return \" \".join(lemmed_words)"
   ]
  },
  {
   "cell_type": "code",
   "execution_count": 18,
   "metadata": {},
   "outputs": [
    {
     "data": {
      "text/plain": [
       "0        marketing intern marketing food52 create groun...\n",
       "1        customer service - cloud video production succ...\n",
       "2        commission machinery assistant cma nodepartmen...\n",
       "3        account executive - washington dc sale passion...\n",
       "4        bill review manager nodepartment spotsource so...\n",
       "                               ...                        \n",
       "17875    account director - distribution sale vend look...\n",
       "17876    payroll accountant accounting weblinc e-commer...\n",
       "17877    project cost control staff engineer - cost con...\n",
       "17878    graphic designer nodepartment nocompanyprofile...\n",
       "17879    web application developer engineering vend loo...\n",
       "Length: 17880, dtype: object"
      ]
     },
     "execution_count": 18,
     "metadata": {},
     "output_type": "execute_result"
    }
   ],
   "source": [
    "lemmatized_documents = documents.apply(pre_process_lem)\n",
    "lemmatized_documents"
   ]
  },
  {
   "cell_type": "code",
   "execution_count": 19,
   "metadata": {},
   "outputs": [
    {
     "data": {
      "text/plain": [
       "<17880x893991 sparse matrix of type '<class 'numpy.int64'>'\n",
       "\twith 4116089 stored elements in Compressed Sparse Row format>"
      ]
     },
     "execution_count": 19,
     "metadata": {},
     "output_type": "execute_result"
    }
   ],
   "source": [
    "from sklearn.feature_extraction.text import CountVectorizer\n",
    "#Bigram is used. It finds count of each pair words in the text.\n",
    "cv = CountVectorizer(ngram_range=(2,2))\n",
    "\n",
    "#Vectorizer converts the list of words into a proper matrix of word counts for each word, for each data entry\n",
    "X_text_data = cv.fit_transform(lemmatized_documents)\n",
    "y_text_data = jobData['fraudulent']\n",
    "X_text_data"
   ]
  },
  {
   "cell_type": "code",
   "execution_count": 20,
   "metadata": {},
   "outputs": [
    {
     "data": {
      "text/plain": [
       "MultinomialNB()"
      ]
     },
     "execution_count": 20,
     "metadata": {},
     "output_type": "execute_result"
    }
   ],
   "source": [
    "from sklearn.model_selection import train_test_split\n",
    "from sklearn.naive_bayes import MultinomialNB\n",
    "\n",
    "X_text_train, X_text_test, y_text_train, y_text_test = train_test_split(X_text_data, y_text_data, test_size=0.3)\n",
    "mnb = MultinomialNB()\n",
    "mnb.fit(X_text_train, y_text_train)"
   ]
  },
  {
   "cell_type": "code",
   "execution_count": 21,
   "metadata": {},
   "outputs": [
    {
     "name": "stdout",
     "output_type": "stream",
     "text": [
      "Accuracy:\t 0.989533397251518\n",
      "F1 score:\t 0.899770466717674\n"
     ]
    },
    {
     "data": {
      "text/plain": [
       "<AxesSubplot:>"
      ]
     },
     "execution_count": 21,
     "metadata": {},
     "output_type": "execute_result"
    },
    {
     "data": {
      "image/png": "[encoded data removed]",
      "text/plain": [
       "<Figure size 432x288 with 2 Axes>"
      ]
     },
     "metadata": {},
     "output_type": "display_data"
    }
   ],
   "source": [
    "from sklearn.metrics import confusion_matrix\n",
    "from sklearn.metrics import f1_score\n",
    "\n",
    "pred_text_train = pd.DataFrame(mnb.predict(X_text_train), columns=['prediction'], index=y_text_train.index)\n",
    "\n",
    "print(\"Accuracy:\\t\", mnb.score(X_text_train, y_text_train))\n",
    "print(\"F1 score:\\t\", f1_score(y_text_train, pred_text_train))\n",
    "sb.heatmap(confusion_matrix(y_text_train, pred_text_train), annot=True, fmt='d')"
   ]
  },
  {
   "cell_type": "code",
   "execution_count": 22,
   "metadata": {},
   "outputs": [
    {
     "name": "stdout",
     "output_type": "stream",
     "text": [
      "Accuracy:\t 0.9207680835197614\n",
      "F1 score:\t 0.5219347581552306\n"
     ]
    },
    {
     "data": {
      "text/plain": [
       "<AxesSubplot:>"
      ]
     },
     "execution_count": 22,
     "metadata": {},
     "output_type": "execute_result"
    },
    {
     "data": {
      "image/png": "[encoded data removed]",
      "text/plain": [
       "<Figure size 432x288 with 2 Axes>"
      ]
     },
     "metadata": {},
     "output_type": "display_data"
    }
   ],
   "source": [
    "pred_text_test = pd.DataFrame(mnb.predict(X_text_test), columns=['prediction'], index=y_text_test.index)\n",
    "\n",
    "print(\"Accuracy:\\t\", mnb.score(X_text_test, y_text_test))\n",
    "print(\"F1 score:\\t\", f1_score(y_text_test, pred_text_test))\n",
    "sb.heatmap(confusion_matrix(y_text_test, pred_text_test), annot=True, fmt='d')"
   ]
  },
  {
   "cell_type": "code",
   "execution_count": 23,
   "metadata": {},
   "outputs": [
    {
     "data": {
      "text/plain": [
       "0        4.299576e-125\n",
       "1         0.000000e+00\n",
       "2        6.061253e-124\n",
       "3         0.000000e+00\n",
       "4        8.910345e-183\n",
       "             ...      \n",
       "17875     0.000000e+00\n",
       "17876    3.074787e-199\n",
       "17877    1.084693e-122\n",
       "17878     6.839257e-16\n",
       "17879     0.000000e+00\n",
       "Name: nlp_p_fraud, Length: 17880, dtype: float64"
      ]
     },
     "execution_count": 23,
     "metadata": {},
     "output_type": "execute_result"
    }
   ],
   "source": [
    "nlp_pred = pd.DataFrame(mnb.predict_proba(X_text_data), columns=['nlp_p_real', 'nlp_p_fraud'])['nlp_p_fraud']\n",
    "nlp_pred"
   ]
  },
  {
   "cell_type": "code",
   "execution_count": 24,
   "metadata": {},
   "outputs": [],
   "source": [
    "jobData[\"NLP_Pred\"] = nlp_pred"
   ]
  },
  {
   "cell_type": "markdown",
   "metadata": {},
   "source": [
    "---"
   ]
  },
  {
   "cell_type": "code",
   "execution_count": 25,
   "metadata": {},
   "outputs": [
    {
     "data": {
      "text/plain": [
       "job_id                   int64\n",
       "title                   string\n",
       "location                object\n",
       "department              string\n",
       "salary_range            object\n",
       "                        ...   \n",
       "country_code_is_VN        bool\n",
       "country_code_is_ZA        bool\n",
       "country_code_is_ZM        bool\n",
       "country_code          category\n",
       "NLP_Pred               float64\n",
       "Length: 151, dtype: object"
      ]
     },
     "execution_count": 25,
     "metadata": {},
     "output_type": "execute_result"
    }
   ],
   "source": [
    "jobData.dtypes"
   ]
  },
  {
   "cell_type": "code",
   "execution_count": 27,
   "metadata": {},
   "outputs": [],
   "source": [
    "jobData.to_csv('cleaned_data.csv', index=False) "
   ]
  }
 ],
 "metadata": {
  "interpreter": {
   "hash": "6d46af94c2bbce495f1e668725902fa517c90b1782bcfe2fce0dd9868df553d3"
  },
  "kernelspec": {
   "display_name": "Python 3.8.8 64-bit ('base': conda)",
   "name": "python3"
  },
  "language_info": {
   "codemirror_mode": {
    "name": "ipython",
    "version": 3
   },
   "file_extension": ".py",
   "mimetype": "text/x-python",
   "name": "python",
   "nbconvert_exporter": "python",
   "pygments_lexer": "ipython3",
   "version": "3.8.8"
  },
  "orig_nbformat": 4
 },
 "nbformat": 4,
 "nbformat_minor": 2
}
